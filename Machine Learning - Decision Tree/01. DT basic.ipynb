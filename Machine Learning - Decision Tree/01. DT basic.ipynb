{
 "cells": [
  {
   "cell_type": "markdown",
   "metadata": {},
   "source": [
    "# Decision Trees\n",
    "\n",
    "We here have...\n",
    "\n",
    "* `Nodes: The actual category`\n",
    "* `Edges: The arrow (Yes/No or LessThan/GreaterThan)`\n",
    "* `Root:  The very first Node of the tree`\n",
    "* `Leaves:The very last Nodes of the tree`\n",
    "____\n",
    "#### Ads:\n",
    "\n",
    "- Compared to other algorithms decision trees requires less effort for data preparation during pre-processing.\n",
    "- **A decision tree does not require normalization of data.**\n",
    "- A decision tree does not require scaling of data as well.\n",
    "- Missing values in the data also do NOT affect the process of building a decision tree to any considerable extent.\n",
    "- **A Decision tree model is very intuitive and easy to explain to technical teams as well as stakeholders.**\n",
    "\n",
    "#### DAds:\n",
    "\n",
    "- **A small change in the data can cause a large change in the structure of the decision tree causing instability.**\n",
    "- For a Decision tree sometimes calculation can go far more complex compared to other algorithms.\n",
    "- Decision tree often involves higher time to train the model.\n",
    "- Decision tree training is relatively expensive as the complexity and time has taken are more.\n",
    "- The Decision Tree algorithm is inadequate for applying regression and predicting continuous values."
   ]
  },
  {
   "cell_type": "markdown",
   "metadata": {},
   "source": [
    "# The thing which is so important is - *Where to start?*\n",
    "\n",
    "Like, I have **5 features** which will help me to get my decision whether I should join the team to play football or d ball today. So, based on my previous data, I have prepared this table...\n",
    "\n",
    "|Mood|Stamina|Time|Other-Likes|WhenTheyLastPlayed|Which|\n",
    "|--- |---    |--- |---        |---               |---  |\n",
    "|Happy| 30%|1 hr| 0.8| 2days|Football|\n",
    "|Mid | 70%| 2hr| 1 | 10days| D ball\n",
    "\n",
    "And so on...\n",
    "\n",
    "Now to build a tree, *Which feature* will give me the best split of my observation? (of course I have 1000 records/observations instead of 2 like here)"
   ]
  },
  {
   "cell_type": "markdown",
   "metadata": {},
   "source": [
    "To decide, we will calculate the `Gini` score for each feature to see how they separate the data. (See here- [Gini Calculation](https://www.youtube.com/watch?v=7VeUPuFGJHk))"
   ]
  },
  {
   "cell_type": "markdown",
   "metadata": {},
   "source": [
    "# Then, the Decision Tree is READY!"
   ]
  },
  {
   "cell_type": "markdown",
   "metadata": {},
   "source": [
    "###  "
   ]
  },
  {
   "cell_type": "markdown",
   "metadata": {},
   "source": [
    "# Where is the Random Forest?\n",
    "\n",
    "## `Random Forest is the Collection of Multiple Decision trees` which we crate by *Bootstraping / Bagging* and randomly selecting Features and Records to build the Tree.\n",
    "\n",
    "____\n",
    "\n",
    "# Bagging vs Bootstraping\n",
    "\n",
    "> Bagging is composed of two parts: aggregation and bootstrapping. Bootstrapping is a sampling method, where a sample is chosen out of a set, using the replacement method. ... The bootstrapping technique uses sampling with replacements to make the selection procedure completely random.\n",
    "\n",
    "There was one more Algoritham poping up to decide the Entropy was - ID3 algoritham.\n",
    "(others: ID3, CART, ASSISTANT)"
   ]
  },
  {
   "cell_type": "markdown",
   "metadata": {},
   "source": [
    "### "
   ]
  },
  {
   "cell_type": "markdown",
   "metadata": {},
   "source": [
    "Using single BT, it may lead to the `High Variance` because there can be multiple splits possible. \"Therefore, Bagging which is the general purpose procedure for reducing the varianve of ML method.\""
   ]
  },
  {
   "cell_type": "markdown",
   "metadata": {},
   "source": [
    "<img src=\"Why1.png\" width= 1000 height= 250>\n",
    "<img src=\"Why2.png\" width= 1000 height= 250>"
   ]
  }
 ],
 "metadata": {
  "kernelspec": {
   "display_name": "Python 3",
   "language": "python",
   "name": "python3"
  },
  "language_info": {
   "codemirror_mode": {
    "name": "ipython",
    "version": 3
   },
   "file_extension": ".py",
   "mimetype": "text/x-python",
   "name": "python",
   "nbconvert_exporter": "python",
   "pygments_lexer": "ipython3",
   "version": "3.8.5"
  }
 },
 "nbformat": 4,
 "nbformat_minor": 4
}
