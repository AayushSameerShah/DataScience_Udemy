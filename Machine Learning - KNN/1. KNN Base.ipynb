{
 "cells": [
  {
   "cell_type": "markdown",
   "metadata": {},
   "source": [
    "# Yeah - KNN\n",
    "> <font size=6 face='eb garamond'>  **I** </font>know that there can be many mathematical formulas for the KNN and so on from the ISLR book, but for now as I need to accelerate the learning, I have posponded the math for later use, now I am focusing on what is available and how to use them, then I will make my understandings more in-depth.\n",
    "\n",
    "&nbsp; &nbsp; &nbsp; &nbsp; &nbsp; &nbsp; &nbsp; &nbsp; &nbsp; &nbsp; &nbsp; &nbsp; &nbsp; &nbsp; &nbsp; &nbsp; &nbsp; &nbsp; &nbsp; &nbsp; &nbsp; &nbsp; &nbsp; &nbsp; &nbsp; &nbsp; &nbsp; &nbsp; &nbsp; &nbsp; &nbsp; &nbsp; &nbsp; &nbsp; &nbsp; &nbsp; &nbsp; &nbsp; &nbsp; &nbsp; &nbsp; &nbsp; &nbsp; &nbsp; &nbsp; &nbsp; &nbsp; &nbsp; &nbsp; &nbsp; &nbsp; &nbsp; &nbsp; &nbsp; &nbsp; &nbsp; &nbsp; &nbsp; &nbsp; &nbsp; &nbsp; &nbsp; &nbsp; &nbsp; &nbsp; &nbsp; &nbsp; &nbsp; &nbsp; &nbsp; &nbsp; &nbsp; &nbsp; &nbsp; &nbsp; &nbsp; &nbsp; &nbsp; &nbsp; &nbsp; &nbsp; &nbsp; &nbsp; &nbsp; &nbsp; &nbsp; &nbsp; &nbsp; &nbsp; &nbsp; &nbsp; &nbsp; &nbsp; &nbsp; &nbsp; &nbsp; &nbsp; &nbsp; &nbsp; &nbsp; &nbsp; &nbsp;  ∞ Aayush Shah"
   ]
  },
  {
   "cell_type": "markdown",
   "metadata": {},
   "source": [
    "### It is Classification algorithm\n",
    "( Don't get confused with the `KMeans` - which is for Unsupervised - here is supervised )\n",
    "\n",
    "Till here, this course has introduced - \n",
    "* Linear Reg (Regression)\n",
    "* Logistic   (Classification)\n",
    "* KNN        (Classification)"
   ]
  },
  {
   "cell_type": "markdown",
   "metadata": {},
   "source": [
    "<img src=\"Classification Types.jpg\"> "
   ]
  },
  {
   "cell_type": "markdown",
   "metadata": {},
   "source": [
    "### These are the ways to classify things."
   ]
  },
  {
   "cell_type": "markdown",
   "metadata": {},
   "source": [
    "The thing is - **The number of `k` matters a lot**: Like if you have put k = 1 then the closest 1 will be it's class but in reality it can be from other class...  \n",
    "\n",
    "Now, how should it be in behind the scenes?\n",
    "\n",
    "<img src=\"problem.png\">\n",
    "\n",
    "**Here**, if we try to understand this, the new point should be from the green class. **`IF WE DECIDE: FROM DISTANCE`** as I think called `Nearest neighbours`. But if we count the numbers, then it says - it is Red!\n",
    "\n",
    "So that thing is what is counted?\n",
    "\n",
    "# Ask Grrass"
   ]
  },
  {
   "cell_type": "markdown",
   "metadata": {},
   "source": [
    "## "
   ]
  },
  {
   "cell_type": "markdown",
   "metadata": {},
   "source": [
    "It is said that: KNN has very few important parameters to deal with - and one of them is `Distance Metric`.\n",
    "\n",
    "## Really! need to learn : `Distance Metric`.\n",
    "[Distance Metrices](https://www.kdnuggets.com/2020/11/most-popular-distance-metrics-knn.html) `<- Here`"
   ]
  },
  {
   "cell_type": "markdown",
   "metadata": {},
   "source": [
    "### Disadvantages:\n",
    "* High Prediction Cost (worse for Large datasets)\n",
    "* Not good for High Dim data.\n",
    "* Categorical Feature don't work well."
   ]
  }
 ],
 "metadata": {
  "kernelspec": {
   "display_name": "Python 3",
   "language": "python",
   "name": "python3"
  },
  "language_info": {
   "codemirror_mode": {
    "name": "ipython",
    "version": 3
   },
   "file_extension": ".py",
   "mimetype": "text/x-python",
   "name": "python",
   "nbconvert_exporter": "python",
   "pygments_lexer": "ipython3",
   "version": "3.8.5"
  }
 },
 "nbformat": 4,
 "nbformat_minor": 4
}
