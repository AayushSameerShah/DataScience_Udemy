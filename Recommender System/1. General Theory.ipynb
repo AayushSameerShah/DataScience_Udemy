{
 "cells": [
  {
   "cell_type": "markdown",
   "metadata": {},
   "source": [
    "# Yes, this is not obviously going to be a Master Recommender system like YouTube, but...\n",
    "\n",
    "See, there are simple two types of the systems to be made (by level of knowledge)\n",
    "\n",
    "* 1. Simple\n",
    "* 2. Advanced...\n",
    "\n",
    "I know, what?\n",
    "___\n",
    "Yes, but the actual types are:\n",
    "# `1. Content Based` & `2. Collaborative Flitering` recommendation system.\n",
    "↑ &nbsp; &nbsp; &nbsp; &nbsp; Similarity of Products &nbsp; &nbsp; &nbsp; &nbsp; &nbsp; &nbsp;  &nbsp; &nbsp; &nbsp; &nbsp; &nbsp; &nbsp; &nbsp; &nbsp; &nbsp; &nbsp; &nbsp; ↑ &nbsp; &nbsp; &nbsp; &nbsp; &nbsp;  What others like"
   ]
  },
  {
   "cell_type": "markdown",
   "metadata": {},
   "source": [
    "# Generally...\n",
    "We use `2nd` *Collaborative Filtering*.\n",
    "\n",
    "It has two types...\n",
    "\n",
    "**Memory-Based CF** & **Model-Based CF** (Both are for advanced...)"
   ]
  }
 ],
 "metadata": {
  "kernelspec": {
   "display_name": "Python 3",
   "language": "python",
   "name": "python3"
  },
  "language_info": {
   "codemirror_mode": {
    "name": "ipython",
    "version": 3
   },
   "file_extension": ".py",
   "mimetype": "text/x-python",
   "name": "python",
   "nbconvert_exporter": "python",
   "pygments_lexer": "ipython3",
   "version": "3.8.5"
  }
 },
 "nbformat": 4,
 "nbformat_minor": 4
}
