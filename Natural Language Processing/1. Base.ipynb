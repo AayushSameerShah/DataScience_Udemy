{
 "cells": [
  {
   "cell_type": "markdown",
   "metadata": {},
   "source": [
    "# It is where, a computer can Read."
   ]
  },
  {
   "cell_type": "markdown",
   "metadata": {},
   "source": [
    " * We want NLP for:\n",
    "     - **Read Doctuments**\n",
    "         - **to...**\n",
    "             - Extract Features\n",
    "         - **so that...**\n",
    "             - We can compare other documents."
   ]
  },
  {
   "cell_type": "markdown",
   "metadata": {},
   "source": [
    "### In here, while reading...\n",
    "We basically get the counts of the words i.e the frequencies of the words.\n",
    "\n",
    "> `A document represented as a vector of word counts is called 'Bag of Words'`\n",
    "\n",
    "The 'Bag of words' **are the features**. So that the *cosine* similarity is possible."
   ]
  },
  {
   "cell_type": "markdown",
   "metadata": {},
   "source": [
    "# Here comes the - King - `Cosine Similarity`."
   ]
  },
  {
   "cell_type": "markdown",
   "metadata": {},
   "source": [
    "    It is vastly used in Recommendation system (as you might have seen in advanced recommendation)\n",
    "[That guy explains](https://www.youtube.com/watch?v=ieMjGVYw9ag)"
   ]
  },
  {
   "cell_type": "markdown",
   "metadata": {},
   "source": [
    "And here comes the TF-IDF"
   ]
  },
  {
   "cell_type": "markdown",
   "metadata": {},
   "source": [
    "# Key...\n",
    "TF - > The word important in that document.  \n",
    "IDF - > The word which is important in that perticular document but not in other documents are the important words. "
   ]
  },
  {
   "cell_type": "markdown",
   "metadata": {},
   "source": [
    "> # The more *that word* frequent in other document - the lower TF-IDF score score should be.\n",
    "\n",
    "<br>\n",
    "<br>\n",
    "\n",
    "$$ \\text{importance_of_that_word} = \\text {count_in_current_doc} * \\frac {\\text {total_documents}} {\\text {appeared_in_these_documents}}$$\n",
    "\n",
    "<br>\n",
    "<br>\n",
    "\n",
    "____\n",
    "\n",
    "<br>\n",
    "<br>\n",
    "\n",
    "$$ \\text{importance_of_that_word} = \\text {count_in_current_doc} * \\log _{10} \\left( \\frac {\\text {total_documents}} {\\text {appeared_in_these_documents}} \\right) $$"
   ]
  },
  {
   "cell_type": "markdown",
   "metadata": {},
   "source": [
    "# "
   ]
  },
  {
   "cell_type": "markdown",
   "metadata": {},
   "source": [
    "# "
   ]
  }
 ],
 "metadata": {
  "kernelspec": {
   "display_name": "Python 3",
   "language": "python",
   "name": "python3"
  },
  "language_info": {
   "codemirror_mode": {
    "name": "ipython",
    "version": 3
   },
   "file_extension": ".py",
   "mimetype": "text/x-python",
   "name": "python",
   "nbconvert_exporter": "python",
   "pygments_lexer": "ipython3",
   "version": "3.8.5"
  }
 },
 "nbformat": 4,
 "nbformat_minor": 4
}
