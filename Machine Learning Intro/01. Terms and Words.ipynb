{
 "cells": [
  {
   "cell_type": "markdown",
   "metadata": {},
   "source": [
    "# <font face='nexa'> Just a good intro\n",
    "<img src=\"What is ML.png\" width= 500 height= 250>\n",
    "\n",
    "____\n",
    "\n",
    "# <font face='nexa'>  Techniques for Unsupervised    \n",
    "<img src=\"Unsupervised - Techniques.png\"  width= 500 height= 250>\n",
    "\n",
    "____\n",
    "\n",
    "# <font face='nexa'> Scikit Learn cheat sheet\n",
    "<img src=\"Cheat Sheet.png\" width= 800 height= 250>\n",
    "   \n"
   ]
  }
 ],
 "metadata": {
  "kernelspec": {
   "display_name": "Python 3",
   "language": "python",
   "name": "python3"
  },
  "language_info": {
   "codemirror_mode": {
    "name": "ipython",
    "version": 3
   },
   "file_extension": ".py",
   "mimetype": "text/x-python",
   "name": "python",
   "nbconvert_exporter": "python",
   "pygments_lexer": "ipython3",
   "version": "3.8.5"
  }
 },
 "nbformat": 4,
 "nbformat_minor": 4
}
