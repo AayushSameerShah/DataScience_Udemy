{
 "cells": [
  {
   "cell_type": "markdown",
   "metadata": {},
   "source": [
    "# Base - Why?"
   ]
  },
  {
   "cell_type": "markdown",
   "metadata": {},
   "source": [
    "**PCA:** Principal Component Analysis\n",
    "    \n",
    "    is a unsupervised (really?) techniques used to examine the interrelations among a set of variables in order to identify the underlying structure of the variables.\n",
    "\n",
    "Repeat: ***To Identify The Underlying Structure Of The Variables***\n",
    "___\n",
    "Now relate it with this:\n",
    "\n",
    "PCA is used to `reduce the dimention` of the basic data. Man! There is an amazing explanation here [That romanian person](https://www.youtube.com/watch?v=g-Hb26agBFg)"
   ]
  },
  {
   "cell_type": "markdown",
   "metadata": {},
   "source": [
    "# Why?\n",
    "\n",
    "Well, to answer this - 1) To visualize it in a better way and... 2) We can train the model based on the reduced dimention betterly!\n",
    "\n",
    "# Other whys...\n",
    "\n",
    "> We usually are surrounded by data with a large number of variables, some of which might be correlated. This correlation between variables brings about a redundancy in the information that can be gathered by the data set."
   ]
  },
  {
   "cell_type": "markdown",
   "metadata": {},
   "source": [
    "> Thus in order to reduce the computational and cost complexities, we use PCA to transform the original variables to the linear combination of these variables which are independent."
   ]
  },
  {
   "cell_type": "markdown",
   "metadata": {},
   "source": [
    "## From Quora...\n",
    "\n",
    "1. **Better Perspective** and less Complexity: When we need a more realistic perspective and we have many features on a given data set and specifically when we have this intuitive knowledge that we don’t need this much number of features.\n",
    "\n",
    "Similarly, in many other practices modelling is easier in 2D than 3D , right?\n",
    "\n",
    "2. **Better visualization**: When we cannot get a good visualization due to high number of dimensions we use PCA to reduce it into a shadow of 2D or 3D features (or even more but convenient enough for better parallel coordinates or Andrew Curve, e.g. when you transfer 100 features into 10 features you cannot still depict it as 2D or 3D but you can get a much better Andrew Curve)\n",
    "\n",
    "3. **Reduce size**: When we have too much data and we are going to use process-intensive algorithms (like many supervised algorithms) on the data so we need to get rid of redundancy .\n",
    "\n",
    "Sometimes change of perspective matters more than D reduction and we want to exploit dimensionality :\n",
    "\n",
    "4. **Different perspective**: Maybe you don’t have any of these motivations but you merely need to improve your knowledge on your data. CPA can give you the best linearly independent and different combinations of features so you can use to describe your data differently."
   ]
  },
  {
   "cell_type": "markdown",
   "metadata": {},
   "source": [
    "# "
   ]
  },
  {
   "cell_type": "markdown",
   "metadata": {},
   "source": [
    "# Other Dimentionality Reduction Terchniques:\n",
    "\n",
    "**Linear dimensionality reduction**  \n",
    "\n",
    "* PCA (Principal Component Analysis)\n",
    "* LDA (Linear Discriminant Analysis)\n",
    "\n",
    "**Non-linear dimensionality reduction**\n",
    "\n",
    "* KPCA (Kernel Principal Component Analysis)"
   ]
  },
  {
   "cell_type": "markdown",
   "metadata": {},
   "source": [
    "> [Great Article on Alternatives](https://www.kdnuggets.com/2015/05/7-methods-data-dimensionality-reduction.html)\n",
    "\n",
    "> [PCA as Compression](https://www.kdnuggets.com/2015/05/7-methods-data-dimensionality-reduction.html)\n",
    "\n",
    "> [More Compression](https://towardsdatascience.com/face-dataset-compression-using-pca-cddf13c63583)"
   ]
  }
 ],
 "metadata": {
  "kernelspec": {
   "display_name": "Python 3",
   "language": "python",
   "name": "python3"
  },
  "language_info": {
   "codemirror_mode": {
    "name": "ipython",
    "version": 3
   },
   "file_extension": ".py",
   "mimetype": "text/x-python",
   "name": "python",
   "nbconvert_exporter": "python",
   "pygments_lexer": "ipython3",
   "version": "3.8.5"
  }
 },
 "nbformat": 4,
 "nbformat_minor": 4
}
