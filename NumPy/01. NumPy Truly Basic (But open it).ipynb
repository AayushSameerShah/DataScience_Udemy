{
 "cells": [
  {
   "cell_type": "markdown",
   "metadata": {},
   "source": [
    "# NumPy Notes and Practicles"
   ]
  },
  {
   "cell_type": "markdown",
   "metadata": {},
   "source": [
    "#### • It is a linear algebra library for python.\n",
    "#### • ALMOST all of the other libraries in the PyData EcoSystem rely on NumPy as one of their building blocks.\n",
    "#### • NumPy is incredibly fast and has bindings with C libraries"
   ]
  },
  {
   "cell_type": "code",
   "execution_count": 1,
   "metadata": {},
   "outputs": [],
   "source": [
    "import numpy"
   ]
  },
  {
   "cell_type": "code",
   "execution_count": 31,
   "metadata": {},
   "outputs": [],
   "source": [
    "a = numpy.arange(0,10)"
   ]
  },
  {
   "cell_type": "code",
   "execution_count": 38,
   "metadata": {},
   "outputs": [
    {
     "data": {
      "text/plain": [
       "array([[0, 1, 2, 3, 4],\n",
       "       [5, 6, 7, 8, 9]])"
      ]
     },
     "execution_count": 38,
     "metadata": {},
     "output_type": "execute_result"
    }
   ],
   "source": [
    "a.reshape(2,5)"
   ]
  },
  {
   "cell_type": "code",
   "execution_count": 37,
   "metadata": {},
   "outputs": [
    {
     "data": {
      "text/plain": [
       "array([[0, 1, 2, 3, 4],\n",
       "       [5, 6, 7, 8, 9]])"
      ]
     },
     "execution_count": 37,
     "metadata": {},
     "output_type": "execute_result"
    }
   ],
   "source": [
    "a"
   ]
  },
  {
   "cell_type": "code",
   "execution_count": 48,
   "metadata": {},
   "outputs": [
    {
     "data": {
      "text/plain": [
       "array([17, 13, 16, 10, 16,  5,  7,  7, 10,  1, 19, 10, 13,  8,  7,  0,  5,\n",
       "       15, 16,  9, 18,  1,  4,  0, 11,  7,  1, 15,  1,  6,  9,  1,  5, 19,\n",
       "       18, 18,  2, 14,  8,  3,  7, 10,  2,  5, 12, 19, 16,  6,  5, 18,  3,\n",
       "       13, 15,  3, 13,  8,  9,  3,  6,  7, 17,  6,  7,  8, 12, 19, 18,  1,\n",
       "       17,  8,  0, 19,  3, 14,  1, 15,  2, 17, 14,  8, 11, 17, 13, 13, 10,\n",
       "        6,  1, 19,  6, 10, 17, 14, 14, 18,  4,  1, 13, 17, 11, 14])"
      ]
     },
     "execution_count": 48,
     "metadata": {},
     "output_type": "execute_result"
    }
   ],
   "source": [
    "numpy.random.randint(0,20,100)"
   ]
  },
  {
   "cell_type": "code",
   "execution_count": 63,
   "metadata": {},
   "outputs": [
    {
     "data": {
      "text/plain": [
       "array({1, 2}, dtype=object)"
      ]
     },
     "execution_count": 63,
     "metadata": {},
     "output_type": "execute_result"
    }
   ],
   "source": [
    "numpy.array({1,2})"
   ]
  },
  {
   "cell_type": "code",
   "execution_count": 65,
   "metadata": {
    "scrolled": true
   },
   "outputs": [
    {
     "data": {
      "text/plain": [
       "array([[0.69459435, 0.22830263, 0.76402621, 0.15573159],\n",
       "       [0.46308491, 0.20224539, 0.1675104 , 0.80241098],\n",
       "       [0.37975484, 0.5130882 , 0.38930733, 0.34257017],\n",
       "       [0.92583192, 0.78677259, 0.44040465, 0.73131544],\n",
       "       [0.97470001, 0.56990428, 0.77460072, 0.43600043]])"
      ]
     },
     "execution_count": 65,
     "metadata": {},
     "output_type": "execute_result"
    }
   ],
   "source": [
    "numpy.random.rand(5,4)\n"
   ]
  },
  {
   "cell_type": "code",
   "execution_count": 67,
   "metadata": {},
   "outputs": [
    {
     "data": {
      "text/plain": [
       "array([[-1.37790338,  0.22292737],\n",
       "       [-0.82719069,  0.52917481],\n",
       "       [ 0.28493612, -0.97160726]])"
      ]
     },
     "execution_count": 67,
     "metadata": {},
     "output_type": "execute_result"
    }
   ],
   "source": [
    "numpy.random.randn(3,2)"
   ]
  },
  {
   "cell_type": "code",
   "execution_count": 4,
   "metadata": {},
   "outputs": [
    {
     "data": {
      "text/plain": [
       "array([[1., 1., 1., 1., 1., 1., 1., 1., 1., 1.],\n",
       "       [1., 1., 1., 1., 1., 1., 1., 1., 1., 1.],\n",
       "       [1., 1., 1., 1., 1., 1., 1., 1., 1., 1.],\n",
       "       [1., 1., 1., 1., 1., 1., 1., 1., 1., 1.],\n",
       "       [1., 1., 1., 1., 1., 1., 1., 1., 1., 1.]])"
      ]
     },
     "execution_count": 4,
     "metadata": {},
     "output_type": "execute_result"
    }
   ],
   "source": [
    "numpy.ones((5,10))"
   ]
  },
  {
   "cell_type": "markdown",
   "metadata": {},
   "source": [
    " "
   ]
  },
  {
   "cell_type": "markdown",
   "metadata": {},
   "source": [
    " "
   ]
  },
  {
   "cell_type": "markdown",
   "metadata": {},
   "source": [
    "##  Some functions of NumPy discussed but not practiced here are ..."
   ]
  },
  {
   "cell_type": "markdown",
   "metadata": {},
   "source": [
    "##### np.arange( Start, Stop, Step ) -- Can't give the shape directly, by default, it produces 1-D array of evenly spaced numbers\n",
    "##### np.ones( Shape )              \n",
    "##### np.zeros( Shape )\n",
    "##### np.array( Iterable of Number )          -- To convert other objects into NumPy\n",
    "##### np.linspace( Start, Stop, Number )  -- Returns the numbers evenly spaced for N times\n",
    "##### np.eye( Number )                               -- Returns a Square Matrix of 1 in diagonal\n",
    "##### np.random.rand( Size )               -- Random between 0 to 1 [ Gaussian Distribution ] for N times\n",
    "##### np.random.randn( Size )             -- Returns random between -1 to 1 both exclusive ( n = \"Standard Normal Distrobution )\n",
    "##### np.random.randint( Start, Stop, Step )\n",
    "##### arr.reshape(row,col)                          -- Returns but not change inplace\n",
    "##### arr.resize(row,col)                             -- Inplace change\n",
    "##### arr.min() / max()                                \n",
    "##### arr.argmin() / argmax()                     -- Location of that min/max value"
   ]
  },
  {
   "cell_type": "markdown",
   "metadata": {},
   "source": [
    "# "
   ]
  }
 ],
 "metadata": {
  "kernelspec": {
   "display_name": "Python 3",
   "language": "python",
   "name": "python3"
  },
  "language_info": {
   "codemirror_mode": {
    "name": "ipython",
    "version": 3
   },
   "file_extension": ".py",
   "mimetype": "text/x-python",
   "name": "python",
   "nbconvert_exporter": "python",
   "pygments_lexer": "ipython3",
   "version": "3.8.5"
  }
 },
 "nbformat": 4,
 "nbformat_minor": 2
}
