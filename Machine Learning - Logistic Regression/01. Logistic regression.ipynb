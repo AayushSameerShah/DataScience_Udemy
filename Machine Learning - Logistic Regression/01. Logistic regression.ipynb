{
 "cells": [
  {
   "cell_type": "markdown",
   "metadata": {},
   "source": [
    "# Logistic regression\n",
    "\n",
    "Till now, we have only seen one method - Linear Regression which was to predict the continuous task.  \n",
    "Now for **the classification tasks**, we will use one of the methods called 'Logistic Regression'.\n",
    "\n",
    "Don't be confused with the term 'Regression' as it is used in both of the tasks, because generally -   \n",
    "Regression = Prediction.\n",
    "\n",
    "So... linear is used for Continuous & Logistic is used for Classification."
   ]
  },
  {
   "cell_type": "markdown",
   "metadata": {},
   "source": [
    "## This happens when we try to fit the `classification problem` to linear regression model\n",
    "\n",
    "<img src='Logistic Done with Linear.png' width= 1000 height= 500>"
   ]
  },
  {
   "cell_type": "markdown",
   "metadata": {},
   "source": [
    "#### According to me...\n",
    "\n",
    "**With logistic regression - We are actully `predicting the Probability`  \n",
    "While in the Linear regression - We are `predicting the Value Itself`**\n",
    "\n",
    "<img src='Logistic regression graph.png' width= 1000 height= 500>"
   ]
  },
  {
   "cell_type": "markdown",
   "metadata": {},
   "source": [
    "# Sigmoid == Logistic"
   ]
  }
 ],
 "metadata": {
  "kernelspec": {
   "display_name": "Python 3",
   "language": "python",
   "name": "python3"
  },
  "language_info": {
   "codemirror_mode": {
    "name": "ipython",
    "version": 3
   },
   "file_extension": ".py",
   "mimetype": "text/x-python",
   "name": "python",
   "nbconvert_exporter": "python",
   "pygments_lexer": "ipython3",
   "version": "3.8.5"
  }
 },
 "nbformat": 4,
 "nbformat_minor": 4
}
