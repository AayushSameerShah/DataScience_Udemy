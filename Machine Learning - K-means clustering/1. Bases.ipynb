{
 "cells": [
  {
   "cell_type": "markdown",
   "metadata": {},
   "source": [
    "# Wait up bro!\n",
    "Getting crazy on this don't you think?"
   ]
  },
  {
   "cell_type": "markdown",
   "metadata": {},
   "source": [
    "I mean we have covered a lot, I know, but, just let's summerize things:\n",
    "\n",
    "* Linear Reg\n",
    "* Logistic Reg\n",
    "* KNN\n",
    "* Random Forests\n",
    "* SVM\n",
    "___\n",
    "Did you notice one thing in them which is the same? - They are `Supervised` methods.  \n",
    "\n",
    "Now, we will tackle first problem with `Unsupervised` method.\n",
    "___\n",
    "**Here it is called:** K-Means Clustering."
   ]
  },
  {
   "cell_type": "markdown",
   "metadata": {},
   "source": [
    "# What is it, and why called `K` and then `Means`?\n",
    "--  \n",
    "**What is it:**\n",
    "    \n",
    "    It is an simple algoritham dicovered by some kaka but simple as it is.\n",
    "    \n",
    "    Whai, Whai, Whai --- talk something meaningfult man!\n",
    "Again, **what is it:**  \n",
    "\n",
    "    This algoritham tries to find the centers or the groups of data (called clusters) \n",
    "    to classify the dataset in the given K classes.\n",
    "    \n",
    "    Here we need to choose the 'optimal' K value which is chosen by:\n",
    "`ELBOW METHOD`.\n",
    "    \n",
    "    But let's say we have given the K value as 3, then it will try to move the randomly\n",
    "    chosen initial points nearer to the points which it belongs to... the intuation can\n",
    "    be betterly cleared with this video.\n",
    "    \n",
    "[The video for both, K-means and Hierarchical](https://www.youtube.com/watch?v=QXOkPvFM6NU)\n",
    "\n",
    "**Why K-Means**:\n",
    "\n",
    "    First, there is not this only who is the main player in the game, there is another - \n",
    "    who is called 'Hierarchical Clustering' which again is the Unsupervised method LIKE \n",
    "    K means.\n",
    "    \n",
    "    Why am I talking about it here?\n",
    "    \n",
    "    It is because in K-Means we take the mean and then adjust the centeroid!\n",
    "    \n",
    "    But in Hirarchical, we don't do any kind of mean but we make the hierarchy and do the stuff.\n",
    "    Again, watch the video.\n",
    "    \n",
    "Maths, aside (for now) let's talk the code."
   ]
  },
  {
   "cell_type": "markdown",
   "metadata": {},
   "source": [
    "# Of course\n",
    "In the next book"
   ]
  }
 ],
 "metadata": {
  "kernelspec": {
   "display_name": "Python 3",
   "language": "python",
   "name": "python3"
  },
  "language_info": {
   "codemirror_mode": {
    "name": "ipython",
    "version": 3
   },
   "file_extension": ".py",
   "mimetype": "text/x-python",
   "name": "python",
   "nbconvert_exporter": "python",
   "pygments_lexer": "ipython3",
   "version": "3.8.5"
  }
 },
 "nbformat": 4,
 "nbformat_minor": 4
}
