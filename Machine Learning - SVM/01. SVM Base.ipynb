{
 "cells": [
  {
   "cell_type": "markdown",
   "metadata": {},
   "source": [
    "# SVM!\n",
    "So, SVMs are finally here!\n",
    "\n",
    "*Before moving forward, consider this for the inituation*\n",
    "<img src=\"SVM1.png\">  \n",
    "**vs**\n",
    "<img src=\"SVM2.png\">"
   ]
  },
  {
   "cell_type": "markdown",
   "metadata": {},
   "source": [
    "So what, basically is **SVM?**"
   ]
  },
  {
   "cell_type": "markdown",
   "metadata": {},
   "source": [
    "It is the Support Vector Machine as we all know but it is not. It is the name of whole game. In reality, the SVC is the person who does all tricks based on the algorithams we choose to use.\n",
    "\n",
    "See, I don't know much in detail, which I will when I start reading the Book and take notes, but for now... SVM is just another type of Classification algoritham which is used to draw a line between classes.\n",
    "\n",
    "It gives the... terminologies:\n",
    "* Soft margin\n",
    "* Missclassification\n",
    "* Kernel Transformation \n",
    "* Kernel Trick\n",
    "\n",
    "and like that...\n",
    "I would like to rewatch...\n",
    "\n",
    "1. [A handrawn video (summary)](https://www.youtube.com/watch?v=Y6RRHw9uN9o&t=382s)\n",
    "2. [Stat Quest - 1](https://www.youtube.com/watch?v=efR1C6CvhmE)\n",
    "3. [Stat Quest - 2](https://www.youtube.com/watch?v=Toet3EiSFcM)\n",
    "4. [That Sir](https://www.youtube.com/watch?v=H9yACitf-KM)\n",
    "\n",
    "For amazing details on them."
   ]
  }
 ],
 "metadata": {
  "kernelspec": {
   "display_name": "Python 3",
   "language": "python",
   "name": "python3"
  },
  "language_info": {
   "codemirror_mode": {
    "name": "ipython",
    "version": 3
   },
   "file_extension": ".py",
   "mimetype": "text/x-python",
   "name": "python",
   "nbconvert_exporter": "python",
   "pygments_lexer": "ipython3",
   "version": "3.8.5"
  }
 },
 "nbformat": 4,
 "nbformat_minor": 4
}
