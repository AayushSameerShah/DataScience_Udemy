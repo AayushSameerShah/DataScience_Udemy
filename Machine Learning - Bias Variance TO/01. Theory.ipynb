{
 "cells": [
  {
   "cell_type": "markdown",
   "metadata": {},
   "source": [
    "# If you forgot the other things\n",
    "to see <u>'How well your model preforms'</u>\n",
    "\n",
    "We had...\n",
    "\n",
    "##### 1. Regression Evaluation Metrics\n",
    "\n",
    "<font color= \"#34cceb\"> **Evaluation metrics for a linear regression model. Evaluation metrics are a measure of how <u>good</u> a model performs and how well it approximates the relationship.** </font> \n",
    "\n",
    "\n",
    "- **MAE** is the easiest to understand, because it's the average error.\n",
    "- **MSE** is more popular than MAE, because MSE \"punishes\" larger errors, which tends to be useful in the real world.\n",
    "- **RMSE** is even more popular than MSE, because RMSE is interpretable in the \"y\" units.\n",
    "-$\n",
    "\\begin{align}\n",
    "R^2\n",
    "\\end{align}\n",
    "$ (Briefly used in the solutions of Linear Regression)\n",
    "- Intercept & Coef\n",
    "\n",
    "\n",
    "All of these are **loss functions**, because we want to minimize them."
   ]
  },
  {
   "cell_type": "markdown",
   "metadata": {},
   "source": [
    "###  "
   ]
  },
  {
   "cell_type": "markdown",
   "metadata": {},
   "source": [
    "# Now, Let's understand..."
   ]
  },
  {
   "cell_type": "markdown",
   "metadata": {},
   "source": [
    "<br>\n",
    "\n",
    "<center> <font size=15> “ </font> <font face='eb garamond' size= 6> <i> The bias-variance trade-off is the <b> point </b> where <br> <br> we are adding just noice <b> by adding </b> model complexity (flexibility) </i> </font> <font size=15> ” </font>\n",
    "    \n",
    "<br>\n",
    "<br>\n",
    "    \n",
    "> **\" The model after the BV - TO begins to overfit**"
   ]
  },
  {
   "cell_type": "markdown",
   "metadata": {},
   "source": [
    "###  "
   ]
  },
  {
   "cell_type": "markdown",
   "metadata": {},
   "source": [
    "<font face='nexa' size= 5> According to me... </font>\n",
    "    \n",
    "    \n",
    "                    The Bias Variance TO is all about choosing the \"Right Flexibility\" of tha model\n",
    "                    so that the model does a pretty good job while maintaining balance between the\n",
    "                    bias and the variance.\n",
    "                    \n",
    "        Low Flex                                           Med Flex                                           High Flex\n",
    "           |                                                  |                                                   |\n",
    "    MSE: High                 Goes down                     Least               Goes up                  Higher and Higher\n",
    "     \n",
    "    Bias:High                 Goes down                     Least               Goes up                  Higher and Higher\n",
    "    \n",
    "    Var: Low                  Goes up                       Okay                Goes up                  Higher and Higher\n",
    " "
   ]
  },
  {
   "cell_type": "code",
   "execution_count": null,
   "metadata": {},
   "outputs": [],
   "source": []
  }
 ],
 "metadata": {
  "kernelspec": {
   "display_name": "Python 3",
   "language": "python",
   "name": "python3"
  },
  "language_info": {
   "codemirror_mode": {
    "name": "ipython",
    "version": 3
   },
   "file_extension": ".py",
   "mimetype": "text/x-python",
   "name": "python",
   "nbconvert_exporter": "python",
   "pygments_lexer": "ipython3",
   "version": "3.8.5"
  }
 },
 "nbformat": 4,
 "nbformat_minor": 4
}
